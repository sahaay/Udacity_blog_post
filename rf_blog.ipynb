{
 "cells": [
  {
   "cell_type": "code",
   "execution_count": 1,
   "metadata": {},
   "outputs": [],
   "source": [
    "# Importing the relevant packages\n",
    "\n",
    "import numpy as np\n",
    "import seaborn\n",
    "import numpy as np\n",
    "import matplotlib.pyplot as matplotlib\n",
    "import xlrd\n",
    " \n",
    "from sklearn.ensemble import RandomForestRegressor\n",
    "from sklearn.model_selection import train_test_split\n",
    " \n",
    "from matplotlib.lines import Line2D\n",
    "from scipy.stats import pearsonr\n",
    " \n",
    "# set seed to make results reproducible\n",
    "RF_SEED = 30"
   ]
  },
  {
   "cell_type": "code",
   "execution_count": 2,
   "metadata": {},
   "outputs": [],
   "source": [
    "# Parsing out the input data into 3 lists:\n",
    "# 1. house price for each record\n",
    "# 2. raw data to train the model\n",
    "# 3. feature names\n",
    "\n",
    "def load_input(excel_file):\n",
    "    y_prediction = []\n",
    "    data = []\n",
    "    feature_names = []\n",
    " \n",
    "    loc = (excel_file)\n",
    "    wb = xlrd.open_workbook(loc)\n",
    "    sheet = wb.sheet_by_index(0)\n",
    "    sheet.cell_value(0, 0)\n",
    " \n",
    "    for index_row in range(0, 415):\n",
    "        row = sheet.row_values(index_row)\n",
    "        row = row[1:]\n",
    " \n",
    "        if index_row == 0:\n",
    "            feature_names = row\n",
    "        else:\n",
    "            row[0] = str(row[0]).split(\".\")[0]\n",
    "            data.append([float(x) for x in row[:-1]])\n",
    "            y_prediction.append(float(row[-1]))\n",
    " \n",
    "    return y_prediction, data, feature_names[:-1]"
   ]
  },
  {
   "cell_type": "code",
   "execution_count": 3,
   "metadata": {},
   "outputs": [],
   "source": [
    "# Splitting the data into test and train\n",
    "# train - 80%, test - 20%\n",
    "\n",
    "def split_data_train_model(labels, data):\n",
    "    # 20% examples in test data\n",
    "    train, test, train_labels, test_labels = train_test_split(data,\n",
    "                                                              labels,\n",
    "                                                              test_size=0.2,\n",
    "                                                              random_state=RF_SEED)\n",
    " \n",
    "    # training data fit\n",
    "    regressor = RandomForestRegressor(n_estimators=1000, random_state=RF_SEED)\n",
    "    regressor.fit(x_data, y_data)\n",
    " \n",
    "    return test, test_labels, regressor"
   ]
  },
  {
   "cell_type": "code",
   "execution_count": 4,
   "metadata": {},
   "outputs": [],
   "source": [
    "# Running the predictions using Random Forest regression\n",
    "\n",
    "y_data, x_data, feature_names = load_input(\"Real_estate_valuation_data_ set.xlsx\")\n",
    "x_test, x_test_labels, regressor = split_data_train_model(y_data, x_data)\n",
    " \n",
    "predictions = regressor.predict(x_test)"
   ]
  },
  {
   "cell_type": "code",
   "execution_count": 5,
   "metadata": {},
   "outputs": [],
   "source": [
    "# Code to run a Scatter plot\n",
    "\n",
    "import seaborn\n",
    "import numpy as np\n",
    "import matplotlib.pyplot as matplotlib\n",
    " \n",
    "from matplotlib.lines import Line2D\n",
    "\n",
    "def simple_scatter_plot(x_data, y_data, output_filename, title_name, x_axis_label, y_axis_label):\n",
    "    \"\"\"Simple scatter plot.\n",
    " \n",
    "    Args:\n",
    "        x_data (list): List with x-axis data.\n",
    "        y_data (list): List with y-axis data.\n",
    "        output_filename (str): Path to output image in PNG format.\n",
    "        title_name (int): Plot title.\n",
    "        x_axis_label (str): X-axis Label.\n",
    "        y_axis_label (str): Y-axis Label.\n",
    " \n",
    "    \"\"\"\n",
    "    seaborn.set(color_codes=True)\n",
    "    matplotlib.figure(1, figsize=(9, 6))\n",
    " \n",
    "    matplotlib.title(title_name)\n",
    " \n",
    "    ax = seaborn.scatterplot(x=x_data, y=y_data)\n",
    " \n",
    "    ax.set(xlabel=x_axis_label, ylabel=y_axis_label)\n",
    " \n",
    "    matplotlib.savefig(output_filename, bbox_inches='tight', dpi=300)\n",
    "    matplotlib.close()"
   ]
  },
  {
   "cell_type": "code",
   "execution_count": 6,
   "metadata": {},
   "outputs": [],
   "source": [
    "# Correlation and scatter plot between actual and predicted values \n",
    "\n",
    "correlation = round(pearsonr(predictions, x_test_labels)[0], 5)\n",
    " \n",
    "output_filename = \"rf_regression.png\"\n",
    "title_name = \"Random Forest Regression - Real House Price vs Predicted House Price - correlation ({})\".format(correlation)\n",
    "x_axis_label = \"Real House Price\"\n",
    "y_axis_label = \"Predicted House Price\"\n",
    " \n",
    "# plot data\n",
    "simple_scatter_plot(x_test_labels, predictions, output_filename, title_name, x_axis_label, y_axis_label)"
   ]
  },
  {
   "cell_type": "code",
   "execution_count": 7,
   "metadata": {},
   "outputs": [
    {
     "name": "stdout",
     "output_type": "stream",
     "text": [
      "Feature ranking:\n",
      "1. X1 transaction date (0.01)\n",
      "2. X2 house age (0.19)\n",
      "3. X3 distance to the nearest MRT station (0.6)\n",
      "4. X4 number of convenience stores (0.02)\n",
      "5. X5 latitude (0.1)\n",
      "6. X6 longitude (0.08)\n"
     ]
    }
   ],
   "source": [
    "# Feature importances of the predictors\n",
    "\n",
    "features_importance = np.round(regressor.feature_importances_, 2)\n",
    " \n",
    "print(\"Feature ranking:\")\n",
    "for i, data_class in enumerate(feature_names):\n",
    "    print(\"{}. {} ({})\".format(i + 1, data_class, features_importance[i]))"
   ]
  },
  {
   "cell_type": "code",
   "execution_count": null,
   "metadata": {},
   "outputs": [],
   "source": []
  }
 ],
 "metadata": {
  "kernelspec": {
   "display_name": "Python 3",
   "language": "python",
   "name": "python3"
  },
  "language_info": {
   "codemirror_mode": {
    "name": "ipython",
    "version": 3
   },
   "file_extension": ".py",
   "mimetype": "text/x-python",
   "name": "python",
   "nbconvert_exporter": "python",
   "pygments_lexer": "ipython3",
   "version": "3.7.3"
  }
 },
 "nbformat": 4,
 "nbformat_minor": 4
}
