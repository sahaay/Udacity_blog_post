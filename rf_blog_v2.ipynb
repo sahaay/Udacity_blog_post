{
 "cells": [
  {
   "cell_type": "markdown",
   "metadata": {},
   "source": [
    "# House Prices Data"
   ]
  },
  {
   "cell_type": "markdown",
   "metadata": {},
   "source": [
    "## Business Understanding"
   ]
  },
  {
   "cell_type": "markdown",
   "metadata": {},
   "source": [
    "The data used for this analysis is of real estate valuation collected from Sindian Dist., New Taipei City, Taiwan. and is sourced from UCI Machine Learning Repository and can be accessed [here](http://archive.ics.uci.edu/ml/datasets/Real+estate+valuation+data+set).\n",
    "\n",
    "Using this data there are a few questions which need to be answered:\n",
    "1. Understand the relationships existing between variables\n",
    "2. Any particular trends between variables\n",
    "3. Variables which impact the house price the most "
   ]
  },
  {
   "cell_type": "markdown",
   "metadata": {},
   "source": [
    "## Data Understanding"
   ]
  },
  {
   "cell_type": "markdown",
   "metadata": {},
   "source": [
    "Following is a list of columns which are included in the file:\n",
    "\n",
    "* No : Serial Number\n",
    "* X1 : the transaction date (for example, 2013.250=2013 March, 2013.500=2013 June, etc.)\n",
    "* X2 : the house age (unit: year)\n",
    "* X3 : the distance to the nearest MRT station (unit: metres)\n",
    "* X4 : the number of convenience stores in the living circle on foot (integer)\n",
    "* X5 : the geographic coordinate, latitude. (unit: degree)\n",
    "* X6 : the geographic coordinate, longitude. (unit: degree)\n",
    "\n",
    "The output/dependent variable is as follows\n",
    "* Y= house price of unit area (10000 New Taiwan Dollar/Ping, where Ping is a local unit, 1 Ping = 3.3 meter squared)"
   ]
  },
  {
   "cell_type": "markdown",
   "metadata": {},
   "source": [
    "## Prepare Data"
   ]
  },
  {
   "cell_type": "markdown",
   "metadata": {},
   "source": [
    "#### Importing the relevant packages"
   ]
  },
  {
   "cell_type": "code",
   "execution_count": 79,
   "metadata": {},
   "outputs": [],
   "source": [
    "import numpy as np\n",
    "import seaborn\n",
    "import numpy as np\n",
    "import matplotlib.pyplot as matplotlib\n",
    "import xlrd\n",
    "import pandas as pd\n",
    " \n",
    "from sklearn.ensemble import RandomForestRegressor\n",
    "from sklearn.model_selection import train_test_split\n",
    " \n",
    "from matplotlib.lines import Line2D\n",
    "from scipy.stats import pearsonr\n",
    " \n",
    "# set seed to make results reproducible\n",
    "RF_SEED = 30"
   ]
  },
  {
   "cell_type": "markdown",
   "metadata": {},
   "source": [
    "#### Importing the dataset"
   ]
  },
  {
   "cell_type": "code",
   "execution_count": 80,
   "metadata": {},
   "outputs": [],
   "source": [
    "df = pd.read_excel(\"Real_estate_valuation_data_set.xlsx\")"
   ]
  },
  {
   "cell_type": "markdown",
   "metadata": {},
   "source": [
    "#### Checking missing values in data"
   ]
  },
  {
   "cell_type": "code",
   "execution_count": 81,
   "metadata": {},
   "outputs": [
    {
     "data": {
      "text/plain": [
       "No                                        0\n",
       "X1 transaction date                       0\n",
       "X2 house age                              0\n",
       "X3 distance to the nearest MRT station    0\n",
       "X4 number of convenience stores           0\n",
       "X5 latitude                               0\n",
       "X6 longitude                              0\n",
       "Y house price of unit area                0\n",
       "dtype: int64"
      ]
     },
     "execution_count": 81,
     "metadata": {},
     "output_type": "execute_result"
    }
   ],
   "source": [
    "df.isnull().sum(axis = 0)"
   ]
  },
  {
   "cell_type": "markdown",
   "metadata": {},
   "source": [
    "##### There are no instances of missing data, so there is no need to think about any of the missing value techniques like replacment of missing values with mean, median etc."
   ]
  },
  {
   "cell_type": "markdown",
   "metadata": {},
   "source": [
    "## Data Analysis"
   ]
  },
  {
   "cell_type": "markdown",
   "metadata": {},
   "source": [
    "#### Correlation Matrix of variables\n",
    "##### This it to get a sense of relationship existing between the variables.  Redundant variables were excluded from this analysis. "
   ]
  },
  {
   "cell_type": "code",
   "execution_count": 82,
   "metadata": {},
   "outputs": [
    {
     "data": {
      "text/html": [
       "<style  type=\"text/css\" >\n",
       "    #T_73be9f8a_2153_11eb_befa_38deadc0ada4row0_col0 {\n",
       "            background-color:  #b40426;\n",
       "            color:  #f1f1f1;\n",
       "        }    #T_73be9f8a_2153_11eb_befa_38deadc0ada4row0_col1 {\n",
       "            background-color:  #c5d6f2;\n",
       "            color:  #000000;\n",
       "        }    #T_73be9f8a_2153_11eb_befa_38deadc0ada4row0_col2 {\n",
       "            background-color:  #c3d5f4;\n",
       "            color:  #000000;\n",
       "        }    #T_73be9f8a_2153_11eb_befa_38deadc0ada4row0_col3 {\n",
       "            background-color:  #96b7ff;\n",
       "            color:  #000000;\n",
       "        }    #T_73be9f8a_2153_11eb_befa_38deadc0ada4row1_col0 {\n",
       "            background-color:  #799cf8;\n",
       "            color:  #000000;\n",
       "        }    #T_73be9f8a_2153_11eb_befa_38deadc0ada4row1_col1 {\n",
       "            background-color:  #b40426;\n",
       "            color:  #f1f1f1;\n",
       "        }    #T_73be9f8a_2153_11eb_befa_38deadc0ada4row1_col2 {\n",
       "            background-color:  #3b4cc0;\n",
       "            color:  #f1f1f1;\n",
       "        }    #T_73be9f8a_2153_11eb_befa_38deadc0ada4row1_col3 {\n",
       "            background-color:  #3b4cc0;\n",
       "            color:  #f1f1f1;\n",
       "        }    #T_73be9f8a_2153_11eb_befa_38deadc0ada4row2_col0 {\n",
       "            background-color:  #81a4fb;\n",
       "            color:  #000000;\n",
       "        }    #T_73be9f8a_2153_11eb_befa_38deadc0ada4row2_col1 {\n",
       "            background-color:  #465ecf;\n",
       "            color:  #f1f1f1;\n",
       "        }    #T_73be9f8a_2153_11eb_befa_38deadc0ada4row2_col2 {\n",
       "            background-color:  #b40426;\n",
       "            color:  #f1f1f1;\n",
       "        }    #T_73be9f8a_2153_11eb_befa_38deadc0ada4row2_col3 {\n",
       "            background-color:  #f59c7d;\n",
       "            color:  #000000;\n",
       "        }    #T_73be9f8a_2153_11eb_befa_38deadc0ada4row3_col0 {\n",
       "            background-color:  #3b4cc0;\n",
       "            color:  #f1f1f1;\n",
       "        }    #T_73be9f8a_2153_11eb_befa_38deadc0ada4row3_col1 {\n",
       "            background-color:  #3b4cc0;\n",
       "            color:  #f1f1f1;\n",
       "        }    #T_73be9f8a_2153_11eb_befa_38deadc0ada4row3_col2 {\n",
       "            background-color:  #f5a081;\n",
       "            color:  #000000;\n",
       "        }    #T_73be9f8a_2153_11eb_befa_38deadc0ada4row3_col3 {\n",
       "            background-color:  #b40426;\n",
       "            color:  #f1f1f1;\n",
       "        }</style><table id=\"T_73be9f8a_2153_11eb_befa_38deadc0ada4\" ><thead>    <tr>        <th class=\"blank level0\" ></th>        <th class=\"col_heading level0 col0\" >X2 house age</th>        <th class=\"col_heading level0 col1\" >X3 distance to the nearest MRT station</th>        <th class=\"col_heading level0 col2\" >X4 number of convenience stores</th>        <th class=\"col_heading level0 col3\" >Y house price of unit area</th>    </tr></thead><tbody>\n",
       "                <tr>\n",
       "                        <th id=\"T_73be9f8a_2153_11eb_befa_38deadc0ada4level0_row0\" class=\"row_heading level0 row0\" >X2 house age</th>\n",
       "                        <td id=\"T_73be9f8a_2153_11eb_befa_38deadc0ada4row0_col0\" class=\"data row0 col0\" >1.00</td>\n",
       "                        <td id=\"T_73be9f8a_2153_11eb_befa_38deadc0ada4row0_col1\" class=\"data row0 col1\" >0.03</td>\n",
       "                        <td id=\"T_73be9f8a_2153_11eb_befa_38deadc0ada4row0_col2\" class=\"data row0 col2\" >0.05</td>\n",
       "                        <td id=\"T_73be9f8a_2153_11eb_befa_38deadc0ada4row0_col3\" class=\"data row0 col3\" >-0.21</td>\n",
       "            </tr>\n",
       "            <tr>\n",
       "                        <th id=\"T_73be9f8a_2153_11eb_befa_38deadc0ada4level0_row1\" class=\"row_heading level0 row1\" >X3 distance to the nearest MRT station</th>\n",
       "                        <td id=\"T_73be9f8a_2153_11eb_befa_38deadc0ada4row1_col0\" class=\"data row1 col0\" >0.03</td>\n",
       "                        <td id=\"T_73be9f8a_2153_11eb_befa_38deadc0ada4row1_col1\" class=\"data row1 col1\" >1.00</td>\n",
       "                        <td id=\"T_73be9f8a_2153_11eb_befa_38deadc0ada4row1_col2\" class=\"data row1 col2\" >-0.60</td>\n",
       "                        <td id=\"T_73be9f8a_2153_11eb_befa_38deadc0ada4row1_col3\" class=\"data row1 col3\" >-0.67</td>\n",
       "            </tr>\n",
       "            <tr>\n",
       "                        <th id=\"T_73be9f8a_2153_11eb_befa_38deadc0ada4level0_row2\" class=\"row_heading level0 row2\" >X4 number of convenience stores</th>\n",
       "                        <td id=\"T_73be9f8a_2153_11eb_befa_38deadc0ada4row2_col0\" class=\"data row2 col0\" >0.05</td>\n",
       "                        <td id=\"T_73be9f8a_2153_11eb_befa_38deadc0ada4row2_col1\" class=\"data row2 col1\" >-0.60</td>\n",
       "                        <td id=\"T_73be9f8a_2153_11eb_befa_38deadc0ada4row2_col2\" class=\"data row2 col2\" >1.00</td>\n",
       "                        <td id=\"T_73be9f8a_2153_11eb_befa_38deadc0ada4row2_col3\" class=\"data row2 col3\" >0.57</td>\n",
       "            </tr>\n",
       "            <tr>\n",
       "                        <th id=\"T_73be9f8a_2153_11eb_befa_38deadc0ada4level0_row3\" class=\"row_heading level0 row3\" >Y house price of unit area</th>\n",
       "                        <td id=\"T_73be9f8a_2153_11eb_befa_38deadc0ada4row3_col0\" class=\"data row3 col0\" >-0.21</td>\n",
       "                        <td id=\"T_73be9f8a_2153_11eb_befa_38deadc0ada4row3_col1\" class=\"data row3 col1\" >-0.67</td>\n",
       "                        <td id=\"T_73be9f8a_2153_11eb_befa_38deadc0ada4row3_col2\" class=\"data row3 col2\" >0.57</td>\n",
       "                        <td id=\"T_73be9f8a_2153_11eb_befa_38deadc0ada4row3_col3\" class=\"data row3 col3\" >1.00</td>\n",
       "            </tr>\n",
       "    </tbody></table>"
      ],
      "text/plain": [
       "<pandas.io.formats.style.Styler at 0x2389fc69438>"
      ]
     },
     "execution_count": 82,
     "metadata": {},
     "output_type": "execute_result"
    }
   ],
   "source": [
    "corr = df[['X2 house age','X3 distance to the nearest MRT station', 'X4 number of convenience stores', 'Y house price of unit area']].corr()\n",
    "corr.style.background_gradient(cmap='coolwarm').set_precision(2)"
   ]
  },
  {
   "cell_type": "markdown",
   "metadata": {},
   "source": [
    "##### This above matrix helps us answer the first question in terms of the relationship existing between variables.  \n",
    "\n",
    "##### The correlations are not very strong amongst the variables.  Looking at the house price (it being the dependent variable), we see that house age and distance to the nearest MRT station have a negative correlation with it, and number of convenience stores has a positive correlation.  "
   ]
  },
  {
   "cell_type": "code",
   "execution_count": null,
   "metadata": {},
   "outputs": [],
   "source": []
  },
  {
   "cell_type": "markdown",
   "metadata": {},
   "source": [
    "#### Scatterplot of variables\n",
    "##### This it to understand the trends existing between variables.  Redundant variables were excluded from this analysis. "
   ]
  },
  {
   "cell_type": "code",
   "execution_count": 83,
   "metadata": {},
   "outputs": [
    {
     "data": {
      "text/plain": [
       "<matplotlib.axes._subplots.AxesSubplot at 0x2389ffab588>"
      ]
     },
     "execution_count": 83,
     "metadata": {},
     "output_type": "execute_result"
    },
    {
     "data": {
      "image/png": "[encoded data removed]",
      "text/plain": [
       "<Figure size 432x288 with 1 Axes>"
      ]
     },
     "metadata": {},
     "output_type": "display_data"
    }
   ],
   "source": [
    "seaborn.scatterplot(x=df['Y house price of unit area'], y= df['X2 house age'])"
   ]
  },
  {
   "cell_type": "code",
   "execution_count": 84,
   "metadata": {},
   "outputs": [
    {
     "data": {
      "text/plain": [
       "<matplotlib.axes._subplots.AxesSubplot at 0x2389fc697f0>"
      ]
     },
     "execution_count": 84,
     "metadata": {},
     "output_type": "execute_result"
    },
    {
     "data": {
      "image/png": "[encoded data removed]",
      "text/plain": [
       "<Figure size 432x288 with 1 Axes>"
      ]
     },
     "metadata": {},
     "output_type": "display_data"
    }
   ],
   "source": [
    "seaborn.scatterplot(x=df['Y house price of unit area'], y= df['X3 distance to the nearest MRT station'])"
   ]
  },
  {
   "cell_type": "code",
   "execution_count": 85,
   "metadata": {},
   "outputs": [
    {
     "data": {
      "text/plain": [
       "<matplotlib.axes._subplots.AxesSubplot at 0x238a041ffd0>"
      ]
     },
     "execution_count": 85,
     "metadata": {},
     "output_type": "execute_result"
    },
    {
     "data": {
      "image/png": "[encoded data removed]",
      "text/plain": [
       "<Figure size 432x288 with 1 Axes>"
      ]
     },
     "metadata": {},
     "output_type": "display_data"
    }
   ],
   "source": [
    "seaborn.scatterplot(x=df['Y house price of unit area'], y= df['X4 number of convenience stores'])"
   ]
  },
  {
   "cell_type": "markdown",
   "metadata": {},
   "source": [
    "##### The scatterplots helps us answer the second question in terms of the trends existing between variables.  \n",
    "##### It is evident by looking at the scatterplot between price and distance to the nearest MRT station, that the houses closer to the station are more expensive, which seems logical.  Also, it looks like the houses are expensive when they have more convenience stores close by.  There is no clear trend between house age and price.  "
   ]
  },
  {
   "cell_type": "code",
   "execution_count": null,
   "metadata": {},
   "outputs": [],
   "source": []
  },
  {
   "cell_type": "markdown",
   "metadata": {},
   "source": [
    "## Data Modeling"
   ]
  },
  {
   "cell_type": "markdown",
   "metadata": {},
   "source": [
    "#### Function to parsing out the input data (in Excel) into 3 lists, which will then be used for data modeling:\n",
    "1. house price for each record\n",
    "2. raw data to train the model\n",
    "3. feature names"
   ]
  },
  {
   "cell_type": "code",
   "execution_count": 86,
   "metadata": {},
   "outputs": [],
   "source": [
    "def load_input(excel_file):\n",
    "\n",
    "    \"\"\" To read an excel file and result into three lists .\n",
    "     Args:\n",
    "        excel_file: File to be read.\n",
    "    \"\"\"\n",
    "    \n",
    "    y_prediction = []\n",
    "    data = []\n",
    "    feature_names = []\n",
    " \n",
    "    loc = (excel_file)\n",
    "    wb = xlrd.open_workbook(loc)\n",
    "    sheet = wb.sheet_by_index(0)\n",
    "    sheet.cell_value(0, 0)\n",
    "\n",
    "    #  reads all the rows from the data\n",
    "    for index_row in range(0, 415):\n",
    "        row = sheet.row_values(index_row)\n",
    "        row = row[1:]\n",
    " \n",
    "        if index_row == 0:\n",
    "            feature_names = row\n",
    "        else:\n",
    "            row[0] = str(row[0]).split(\".\")[0]\n",
    "            data.append([float(x) for x in row[:-1]])\n",
    "            y_prediction.append(float(row[-1]))\n",
    " \n",
    "    return y_prediction, data, feature_names[:-1]"
   ]
  },
  {
   "cell_type": "markdown",
   "metadata": {},
   "source": [
    "#### Splitting the data into train (80%) and test (20%)"
   ]
  },
  {
   "cell_type": "code",
   "execution_count": 87,
   "metadata": {},
   "outputs": [],
   "source": [
    "def split_data_train_model(labels, data):\n",
    "\n",
    "    \"\"\" To split the data into test and train samples.\n",
    "     Args:\n",
    "        labels: list containing the dependent variable.\n",
    "        data: list containing independent variables. \n",
    "    \"\"\"\n",
    "\n",
    "    # 20% examples in test data\n",
    "    train, test, train_labels, test_labels = train_test_split(data, labels, test_size = 0.2, random_state = RF_SEED)\n",
    " \n",
    "    # training data fit\n",
    "    regressor = RandomForestRegressor(n_estimators = 1000, random_state = RF_SEED)\n",
    "    regressor.fit(x_data, y_data)\n",
    " \n",
    "    return test, test_labels, regressor"
   ]
  },
  {
   "cell_type": "markdown",
   "metadata": {},
   "source": [
    "#### Running the predictions using Random Forest regression"
   ]
  },
  {
   "cell_type": "code",
   "execution_count": 88,
   "metadata": {},
   "outputs": [],
   "source": [
    "y_data, x_data, feature_names = load_input(\"Real_estate_valuation_data_set.xlsx\")\n",
    "x_test, x_test_labels, regressor = split_data_train_model(y_data, x_data)\n",
    " \n",
    "predictions = regressor.predict(x_test)"
   ]
  },
  {
   "cell_type": "markdown",
   "metadata": {},
   "source": [
    "#### Function to create a scatter plot and save it as a .PNG file"
   ]
  },
  {
   "cell_type": "code",
   "execution_count": 89,
   "metadata": {},
   "outputs": [],
   "source": [
    "def simple_scatter_plot(x_data, y_data, output_filename, title_name, x_axis_label, y_axis_label):\n",
    "    \"\"\"Simple scatter plot.\n",
    " \n",
    "    Args:\n",
    "        x_data (list): List with x-axis data.\n",
    "        y_data (list): List with y-axis data.\n",
    "        output_filename (str): Path to output image in PNG format.\n",
    "        title_name (int): Plot title.\n",
    "        x_axis_label (str): X-axis Label.\n",
    "        y_axis_label (str): Y-axis Label.\n",
    " \n",
    "    \"\"\"\n",
    "    seaborn.set(color_codes=True)\n",
    "    matplotlib.figure(1, figsize=(9, 6)) \n",
    "    matplotlib.title(title_name) \n",
    "    ax = seaborn.scatterplot(x=x_data, y=y_data) \n",
    "    ax.set(xlabel=x_axis_label, ylabel=y_axis_label) \n",
    "    matplotlib.savefig(output_filename, bbox_inches='tight', dpi=300)\n",
    "    matplotlib.close()"
   ]
  },
  {
   "cell_type": "markdown",
   "metadata": {},
   "source": [
    "#### Correlation and Scatterplot between actual and predicted values"
   ]
  },
  {
   "cell_type": "code",
   "execution_count": 90,
   "metadata": {},
   "outputs": [],
   "source": [
    "correlation = round(pearsonr(predictions, x_test_labels)[0], 5)\n",
    " \n",
    "output_filename = \"rf_regression.png\"\n",
    "title_name = \"Random Forest Regression - Real House Price vs Predicted House Price - correlation ({})\".format(correlation)\n",
    "x_axis_label = \"Real House Price\"\n",
    "y_axis_label = \"Predicted House Price\"\n",
    " \n",
    "# plot data\n",
    "simple_scatter_plot(x_test_labels, predictions, output_filename, title_name, x_axis_label, y_axis_label)"
   ]
  },
  {
   "cell_type": "markdown",
   "metadata": {},
   "source": [
    "#### Feature importance of the predictors"
   ]
  },
  {
   "cell_type": "code",
   "execution_count": 91,
   "metadata": {},
   "outputs": [
    {
     "name": "stdout",
     "output_type": "stream",
     "text": [
      "Feature ranking:\n",
      "1. X1 transaction date (0.01)\n",
      "2. X2 house age (0.19)\n",
      "3. X3 distance to the nearest MRT station (0.6)\n",
      "4. X4 number of convenience stores (0.02)\n",
      "5. X5 latitude (0.1)\n",
      "6. X6 longitude (0.08)\n"
     ]
    }
   ],
   "source": [
    "features_importance = np.round(regressor.feature_importances_, 2)\n",
    " \n",
    "print(\"Feature ranking:\")\n",
    "for i, data_class in enumerate(feature_names):\n",
    "    print(\"{}. {} ({})\".format(i + 1, data_class, features_importance[i]))"
   ]
  },
  {
   "cell_type": "markdown",
   "metadata": {},
   "source": [
    "##### The feature importance helps us answer the third question in terms of the importance of variables on house price.  \n",
    "##### With the help of Random Forest Regression algorithm, we can conclude that distance to the nearest MRT station is the most important variable for house price, followed by the house age.  "
   ]
  },
  {
   "cell_type": "code",
   "execution_count": null,
   "metadata": {},
   "outputs": [],
   "source": []
  }
 ],
 "metadata": {
  "kernelspec": {
   "display_name": "Python 3",
   "language": "python",
   "name": "python3"
  },
  "language_info": {
   "codemirror_mode": {
    "name": "ipython",
    "version": 3
   },
   "file_extension": ".py",
   "mimetype": "text/x-python",
   "name": "python",
   "nbconvert_exporter": "python",
   "pygments_lexer": "ipython3",
   "version": "3.7.3"
  }
 },
 "nbformat": 4,
 "nbformat_minor": 4
}
